{
 "cells": [
  {
   "cell_type": "code",
   "execution_count": 1,
   "metadata": {},
   "outputs": [
    {
     "name": "stdout",
     "output_type": "stream",
     "text": [
      "Requirement already satisfied: yfinance in /Users/sanghyunkim/opt/anaconda3/lib/python3.9/site-packages (0.2.51)\n",
      "Requirement already satisfied: numpy>=1.16.5 in /Users/sanghyunkim/opt/anaconda3/lib/python3.9/site-packages (from yfinance) (1.22.4)\n",
      "Requirement already satisfied: lxml>=4.9.1 in /Users/sanghyunkim/opt/anaconda3/lib/python3.9/site-packages (from yfinance) (5.3.0)\n",
      "Requirement already satisfied: platformdirs>=2.0.0 in /Users/sanghyunkim/opt/anaconda3/lib/python3.9/site-packages (from yfinance) (4.3.6)\n",
      "Requirement already satisfied: pandas>=1.3.0 in /Users/sanghyunkim/opt/anaconda3/lib/python3.9/site-packages (from yfinance) (1.3.4)\n",
      "Requirement already satisfied: pytz>=2022.5 in /Users/sanghyunkim/opt/anaconda3/lib/python3.9/site-packages (from yfinance) (2024.2)\n",
      "Requirement already satisfied: frozendict>=2.3.4 in /Users/sanghyunkim/opt/anaconda3/lib/python3.9/site-packages (from yfinance) (2.4.6)\n",
      "Requirement already satisfied: peewee>=3.16.2 in /Users/sanghyunkim/opt/anaconda3/lib/python3.9/site-packages (from yfinance) (3.17.8)\n",
      "Requirement already satisfied: html5lib>=1.1 in /Users/sanghyunkim/opt/anaconda3/lib/python3.9/site-packages (from yfinance) (1.1)\n",
      "Requirement already satisfied: beautifulsoup4>=4.11.1 in /Users/sanghyunkim/opt/anaconda3/lib/python3.9/site-packages (from yfinance) (4.12.3)\n",
      "Requirement already satisfied: requests>=2.31 in /Users/sanghyunkim/opt/anaconda3/lib/python3.9/site-packages (from yfinance) (2.32.3)\n",
      "Requirement already satisfied: multitasking>=0.0.7 in /Users/sanghyunkim/opt/anaconda3/lib/python3.9/site-packages (from yfinance) (0.0.11)\n",
      "Requirement already satisfied: soupsieve>1.2 in /Users/sanghyunkim/opt/anaconda3/lib/python3.9/site-packages (from beautifulsoup4>=4.11.1->yfinance) (2.2.1)\n",
      "Requirement already satisfied: webencodings in /Users/sanghyunkim/opt/anaconda3/lib/python3.9/site-packages (from html5lib>=1.1->yfinance) (0.5.1)\n",
      "Requirement already satisfied: six>=1.9 in /Users/sanghyunkim/opt/anaconda3/lib/python3.9/site-packages (from html5lib>=1.1->yfinance) (1.16.0)\n",
      "Requirement already satisfied: python-dateutil>=2.7.3 in /Users/sanghyunkim/opt/anaconda3/lib/python3.9/site-packages (from pandas>=1.3.0->yfinance) (2.8.2)\n",
      "Requirement already satisfied: idna<4,>=2.5 in /Users/sanghyunkim/opt/anaconda3/lib/python3.9/site-packages (from requests>=2.31->yfinance) (3.2)\n",
      "Requirement already satisfied: urllib3<3,>=1.21.1 in /Users/sanghyunkim/opt/anaconda3/lib/python3.9/site-packages (from requests>=2.31->yfinance) (1.26.7)\n",
      "Requirement already satisfied: certifi>=2017.4.17 in /Users/sanghyunkim/opt/anaconda3/lib/python3.9/site-packages (from requests>=2.31->yfinance) (2021.10.8)\n",
      "Requirement already satisfied: charset-normalizer<4,>=2 in /Users/sanghyunkim/opt/anaconda3/lib/python3.9/site-packages (from requests>=2.31->yfinance) (2.0.4)\n"
     ]
    }
   ],
   "source": [
    "!pip install yfinance"
   ]
  },
  {
   "cell_type": "code",
   "execution_count": 2,
   "metadata": {},
   "outputs": [
    {
     "name": "stderr",
     "output_type": "stream",
     "text": [
      "[*********************100%***********************]  1 of 1 completed\n"
     ]
    }
   ],
   "source": [
    "import yfinance as yf\n",
    "import pandas as pd\n",
    "\n",
    "ticker = 'AAPL'\n",
    "start_date = '2023-01-01'\n",
    "end_date = '2024-12-31'\n",
    "data = yf.download(ticker, start=start_date, end=end_date)\n",
    "\n",
    "data.to_csv('apple_daily.csv')\n",
    "\n",
    "weekly_data = data.resample('W').last()\n",
    "weekly_data.to_csv('apple_weekly.csv')\n",
    "\n",
    "biweekly_data = data.resample('2W').last()\n",
    "biweekly_data.to_csv('apple_biweekly.csv')\n"
   ]
  },
  {
   "cell_type": "code",
   "execution_count": 4,
   "metadata": {},
   "outputs": [
    {
     "data": {
      "text/html": [
       "<div>\n",
       "<style scoped>\n",
       "    .dataframe tbody tr th:only-of-type {\n",
       "        vertical-align: middle;\n",
       "    }\n",
       "\n",
       "    .dataframe tbody tr th {\n",
       "        vertical-align: top;\n",
       "    }\n",
       "\n",
       "    .dataframe thead th {\n",
       "        text-align: right;\n",
       "    }\n",
       "</style>\n",
       "<table border=\"1\" class=\"dataframe\">\n",
       "  <thead>\n",
       "    <tr style=\"text-align: right;\">\n",
       "      <th></th>\n",
       "      <th>Price</th>\n",
       "      <th>Close</th>\n",
       "      <th>High</th>\n",
       "      <th>Low</th>\n",
       "      <th>Open</th>\n",
       "      <th>Volume</th>\n",
       "    </tr>\n",
       "  </thead>\n",
       "  <tbody>\n",
       "    <tr>\n",
       "      <th>0</th>\n",
       "      <td>Ticker</td>\n",
       "      <td>AAPL</td>\n",
       "      <td>AAPL</td>\n",
       "      <td>AAPL</td>\n",
       "      <td>AAPL</td>\n",
       "      <td>AAPL</td>\n",
       "    </tr>\n",
       "    <tr>\n",
       "      <th>1</th>\n",
       "      <td>Date</td>\n",
       "      <td>NaN</td>\n",
       "      <td>NaN</td>\n",
       "      <td>NaN</td>\n",
       "      <td>NaN</td>\n",
       "      <td>NaN</td>\n",
       "    </tr>\n",
       "    <tr>\n",
       "      <th>2</th>\n",
       "      <td>2023-01-03</td>\n",
       "      <td>123.63252258300781</td>\n",
       "      <td>129.39551044224086</td>\n",
       "      <td>122.74286511723291</td>\n",
       "      <td>128.7826411649236</td>\n",
       "      <td>112117500</td>\n",
       "    </tr>\n",
       "    <tr>\n",
       "      <th>3</th>\n",
       "      <td>2023-01-04</td>\n",
       "      <td>124.9076919555664</td>\n",
       "      <td>127.18126010449132</td>\n",
       "      <td>123.64240474081771</td>\n",
       "      <td>125.43159923588829</td>\n",
       "      <td>89113600</td>\n",
       "    </tr>\n",
       "    <tr>\n",
       "      <th>4</th>\n",
       "      <td>2023-01-05</td>\n",
       "      <td>123.58309936523438</td>\n",
       "      <td>126.30149268134268</td>\n",
       "      <td>123.32609306355886</td>\n",
       "      <td>125.66884902202133</td>\n",
       "      <td>80962700</td>\n",
       "    </tr>\n",
       "  </tbody>\n",
       "</table>\n",
       "</div>"
      ],
      "text/plain": [
       "        Price               Close                High                 Low  \\\n",
       "0      Ticker                AAPL                AAPL                AAPL   \n",
       "1        Date                 NaN                 NaN                 NaN   \n",
       "2  2023-01-03  123.63252258300781  129.39551044224086  122.74286511723291   \n",
       "3  2023-01-04   124.9076919555664  127.18126010449132  123.64240474081771   \n",
       "4  2023-01-05  123.58309936523438  126.30149268134268  123.32609306355886   \n",
       "\n",
       "                 Open     Volume  \n",
       "0                AAPL       AAPL  \n",
       "1                 NaN        NaN  \n",
       "2   128.7826411649236  112117500  \n",
       "3  125.43159923588829   89113600  \n",
       "4  125.66884902202133   80962700  "
      ]
     },
     "execution_count": 4,
     "metadata": {},
     "output_type": "execute_result"
    }
   ],
   "source": [
    "import pandas as pd \n",
    "\n",
    "df = pd.read_csv(\"apple_daily.csv\")\n",
    "df.head()"
   ]
  },
  {
   "cell_type": "code",
   "execution_count": null,
   "metadata": {},
   "outputs": [],
   "source": []
  }
 ],
 "metadata": {
  "kernelspec": {
   "display_name": "base",
   "language": "python",
   "name": "python3"
  },
  "language_info": {
   "codemirror_mode": {
    "name": "ipython",
    "version": 3
   },
   "file_extension": ".py",
   "mimetype": "text/x-python",
   "name": "python",
   "nbconvert_exporter": "python",
   "pygments_lexer": "ipython3",
   "version": "3.9.7"
  }
 },
 "nbformat": 4,
 "nbformat_minor": 2
}
